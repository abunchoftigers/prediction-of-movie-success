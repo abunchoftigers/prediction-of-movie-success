{
 "cells": [
  {
   "cell_type": "markdown",
   "metadata": {},
   "source": [
    "# Project 2 Part 6"
   ]
  },
  {
   "cell_type": "markdown",
   "metadata": {},
   "source": [
    "# intro"
   ]
  },
  {
   "cell_type": "markdown",
   "metadata": {},
   "source": [
    "imports"
   ]
  },
  {
   "cell_type": "code",
   "execution_count": 1,
   "metadata": {},
   "outputs": [],
   "source": [
    "import numpy as np\n",
    "import pandas as pd\n",
    "import tensorflow as tf\n",
    "import joblib\n",
    "\n",
    "from tensorflow.keras.layers import TextVectorization\n",
    "from sklearn.feature_extraction.text import CountVectorizer\n",
    "from sklearn.feature_extraction.text import ENGLISH_STOP_WORDS\n",
    "\n",
    "from tensorflow.keras import layers\n",
    "from tensorflow.keras import optimizers\n",
    "import pandas as pd\n",
    "import matplotlib.pyplot as plt\n",
    "import seaborn as sns\n",
    "import numpy as np\n",
    "from sklearn.model_selection import train_test_split\n",
    "from sklearn.ensemble import RandomForestClassifier\n",
    "\n",
    "from sklearn.pipeline import make_pipeline, Pipeline\n",
    "from sklearn.model_selection import GridSearchCV\n",
    "from imblearn.under_sampling import RandomUnderSampler\n",
    "from sklearn.preprocessing import LabelEncoder\n",
    "from sklearn import set_config\n"
   ]
  },
  {
   "cell_type": "markdown",
   "metadata": {},
   "source": [
    "definitions"
   ]
  },
  {
   "cell_type": "code",
   "execution_count": 2,
   "metadata": {},
   "outputs": [],
   "source": [
    "%load_ext autoreload \n",
    "%autoreload 2\n",
    "\n",
    "import custom_functions as fn"
   ]
  },
  {
   "cell_type": "markdown",
   "metadata": {},
   "source": [
    "config"
   ]
  },
  {
   "cell_type": "code",
   "execution_count": 3,
   "metadata": {},
   "outputs": [],
   "source": [
    "tf.keras.utils.set_random_seed(42)\n",
    "tf.random.set_seed(42)\n",
    "np.random.seed(42)\n",
    "\n",
    "set_config(transform_output='pandas')\n",
    "pd.set_option('display.max_colwidth', 250)"
   ]
  },
  {
   "cell_type": "markdown",
   "metadata": {},
   "source": [
    "data"
   ]
  },
  {
   "cell_type": "code",
   "execution_count": 4,
   "metadata": {},
   "outputs": [
    {
     "data": {
      "text/html": [
       "<div>\n",
       "<style scoped>\n",
       "    .dataframe tbody tr th:only-of-type {\n",
       "        vertical-align: middle;\n",
       "    }\n",
       "\n",
       "    .dataframe tbody tr th {\n",
       "        vertical-align: top;\n",
       "    }\n",
       "\n",
       "    .dataframe thead th {\n",
       "        text-align: right;\n",
       "    }\n",
       "</style>\n",
       "<table border=\"1\" class=\"dataframe\">\n",
       "  <thead>\n",
       "    <tr style=\"text-align: right;\">\n",
       "      <th></th>\n",
       "      <th>Unnamed: 0</th>\n",
       "      <th>review_id</th>\n",
       "      <th>movie_id</th>\n",
       "      <th>imdb_id</th>\n",
       "      <th>original_title</th>\n",
       "      <th>review</th>\n",
       "      <th>rating</th>\n",
       "      <th>sentiment</th>\n",
       "      <th>tokenized_text</th>\n",
       "      <th>lemmatized_text</th>\n",
       "      <th>joined_lemmatized_text</th>\n",
       "      <th>joined_tokenized_text</th>\n",
       "    </tr>\n",
       "  </thead>\n",
       "  <tbody>\n",
       "    <tr>\n",
       "      <th>0</th>\n",
       "      <td>0</td>\n",
       "      <td>57086ff5c3a3681d29001512</td>\n",
       "      <td>7443</td>\n",
       "      <td>tt0120630</td>\n",
       "      <td>Chicken Run</td>\n",
       "      <td>A guilty pleasure for me personally, as I love both 'The Great Escape' and most of the works I have seen, over the years, from this rightfully-esteemed British animation company. Highly recommended both for children and for adults who enjoy anima...</td>\n",
       "      <td>9.0</td>\n",
       "      <td>High</td>\n",
       "      <td>['guilty', 'pleasure', 'personally', 'love', 'great', 'escape', 'works', 'seen', 'years', 'rightfully', 'esteemed', 'british', 'animation', 'company', 'highly', 'recommended', 'children', 'adults', 'enjoy', 'animation']</td>\n",
       "      <td>['guilty', 'pleasure', 'personally', 'love', 'great', 'escape', 'work', 'see', 'year', 'rightfully', 'esteem', 'british', 'animation', 'company', 'highly', 'recommend', 'child', 'adult', 'enjoy', 'animation']</td>\n",
       "      <td>guilty pleasure personally love great escape work see year rightfully esteem british animation company highly recommend child adult enjoy animation</td>\n",
       "      <td>guilty pleasure personally love great escape works seen years rightfully esteemed british animation company highly recommended children adults enjoy animation</td>\n",
       "    </tr>\n",
       "    <tr>\n",
       "      <th>1</th>\n",
       "      <td>1</td>\n",
       "      <td>57b2d23dc3a36837d7000b14</td>\n",
       "      <td>955</td>\n",
       "      <td>tt0120755</td>\n",
       "      <td>Mission: Impossible II</td>\n",
       "      <td>The first underwhelmed me, but this one straight-up bored me. Again, of course seeing Hunt climb a mountain without a harness is impressive sure. And I even quite liked the idea behind the villain of the piece (though even that angle was woefully...</td>\n",
       "      <td>3.0</td>\n",
       "      <td>Low</td>\n",
       "      <td>['underwhelmed', 'straight', 'bored', 'course', 'seeing', 'hunt', 'climb', 'mountain', 'harness', 'impressive', 'sure', 'liked', 'idea', 'villain', 'piece', 'angle', 'woefully', 'underdeveloped', 'setting', 'predominantly', 'australia', 'grab', '...</td>\n",
       "      <td>['underwhelme', 'straight', 'bore', 'course', 'see', 'hunt', 'climb', 'mountain', 'harness', 'impressive', 'sure', 'like', 'idea', 'villain', 'piece', 'angle', 'woefully', 'underdeveloped', 'set', 'predominantly', 'australia', 'grab', 'attention'...</td>\n",
       "      <td>underwhelme straight bore course see hunt climb mountain harness impressive sure like idea villain piece angle woefully underdeveloped set predominantly australia grab attention say cause pretty biased come hear tell mission impossible ii low poi...</td>\n",
       "      <td>underwhelmed straight bored course seeing hunt climb mountain harness impressive sure liked idea villain piece angle woefully underdeveloped setting predominantly australia grab attention saying cause pretty biased comes hear tell mission impossi...</td>\n",
       "    </tr>\n",
       "    <tr>\n",
       "      <th>2</th>\n",
       "      <td>2</td>\n",
       "      <td>5e9120963679a10018375490</td>\n",
       "      <td>955</td>\n",
       "      <td>tt0120755</td>\n",
       "      <td>Mission: Impossible II</td>\n",
       "      <td>After quite entertainign Mission Impossible I the second installment turned out ... terrible. As if the screenwriters didn't know how to fill the 2 hrs with action the overuse of heroic slow motion scenes is horrible. You almost might need a barf...</td>\n",
       "      <td>2.0</td>\n",
       "      <td>Low</td>\n",
       "      <td>['entertainign', 'mission', 'impossible', 'second', 'installment', 'turned', 'terrible', 'screenwriters', 'know', 'fill', '2', 'hrs', 'action', 'overuse', 'heroic', 'slow', 'motion', 'scenes', 'horrible', 'need', 'barf', 'bag', 'stand', 'slo', 'm...</td>\n",
       "      <td>['entertainign', 'mission', 'impossible', 'second', 'installment', 'turn', 'terrible', 'screenwriter', 'know', 'fill', '2', 'hrs', 'action', 'overuse', 'heroic', 'slow', 'motion', 'scene', 'horrible', 'need', 'barf', 'bag', 'stand', 'slo', 'mo', ...</td>\n",
       "      <td>entertainign mission impossible second installment turn terrible screenwriter know fill 2 hrs action overuse heroic slow motion scene horrible need barf bag stand slo mo second 15 second amazed decide push m movie turn well hard beat lousy piece ...</td>\n",
       "      <td>entertainign mission impossible second installment turned terrible screenwriters know fill 2 hrs action overuse heroic slow motion scenes horrible need barf bag stand slo mo seconds 15 seconds amazed decide push m movies turned better hard beat l...</td>\n",
       "    </tr>\n",
       "    <tr>\n",
       "      <th>3</th>\n",
       "      <td>3</td>\n",
       "      <td>608e2744d8cc4a0058dc4272</td>\n",
       "      <td>2621</td>\n",
       "      <td>tt0122459</td>\n",
       "      <td>Return to Me</td>\n",
       "      <td>Okay, I will admit I can be a bit of an easy grader when it comes to romantic comedies, as long as they are witty with likable characters, don’t insult my intelligence and have suitable happy endings (I guess if they don’t end happily, they aren’...</td>\n",
       "      <td>9.0</td>\n",
       "      <td>High</td>\n",
       "      <td>['okay', 'admit', 'bit', 'easy', 'grader', 'comes', 'romantic', 'comedies', 'long', 'witty', 'likable', 'characters', 'insult', 'intelligence', 'suitable', 'happy', 'endings', 'guess', 'end', 'happily', 'rom', 'coms', 'saw', 'movie', 'years', 'ag...</td>\n",
       "      <td>['okay', 'admit', 'bit', 'easy', 'grader', 'come', 'romantic', 'comedy', 'long', 'witty', 'likable', 'character', 'insult', 'intelligence', 'suitable', 'happy', 'ending', 'guess', 'end', 'happily', 'rom', 'com', 'see', 'movie', 'year', 'ago', 'fo...</td>\n",
       "      <td>okay admit bit easy grader come romantic comedy long witty likable character insult intelligence suitable happy ending guess end happily rom com see movie year ago forget fresh like movie plot rely huge coincidence story get sappy sentimental pla...</td>\n",
       "      <td>okay admit bit easy grader comes romantic comedies long witty likable characters insult intelligence suitable happy endings guess end happily rom coms saw movie years ago forgotten fresh like movies plot relies huge coincidence story gets sappy s...</td>\n",
       "    </tr>\n",
       "    <tr>\n",
       "      <th>4</th>\n",
       "      <td>4</td>\n",
       "      <td>6409202f0e441900e887a17b</td>\n",
       "      <td>4234</td>\n",
       "      <td>tt0134084</td>\n",
       "      <td>Scream 3</td>\n",
       "      <td>**_Scream 3’s_ lackluster screenplay and unimaginative kills leave a film that is a bore to watch.**\\r\\n\\r\\nThe meta-narrative of trilogies throughout the film does not make up for how abysmal the plot was. This film creates so much lore for the ...</td>\n",
       "      <td>4.0</td>\n",
       "      <td>Low</td>\n",
       "      <td>['scream', '3', 'lackluster', 'screenplay', 'unimaginative', 'kills', 'leave', 'film', 'bore', 'watch', 'meta', 'narrative', 'trilogies', 'film', 'abysmal', 'plot', 'film', 'creates', 'lore', 'past', 'movies', 'seemingly', 'blue', 'muddling', 'co...</td>\n",
       "      <td>['scream', '3', 'lackluster', 'screenplay', 'unimaginative', 'kill', 'leave', 'film', 'bore', 'watch', 'meta', 'narrative', 'trilogy', 'film', 'abysmal', 'plot', 'film', 'create', 'lore', 'past', 'movie', 'seemingly', 'blue', 'muddle', 'continuit...</td>\n",
       "      <td>scream 3 lackluster screenplay unimaginative kill leave film bore watch meta narrative trilogy film abysmal plot film create lore past movie seemingly blue muddle continuity shock value add little film feel force entire plot point sidney mother h...</td>\n",
       "      <td>scream 3 lackluster screenplay unimaginative kills leave film bore watch meta narrative trilogies film abysmal plot film creates lore past movies seemingly blue muddling continuity shock value added little film felt forced entire plot point sidne...</td>\n",
       "    </tr>\n",
       "  </tbody>\n",
       "</table>\n",
       "</div>"
      ],
      "text/plain": [
       "   Unnamed: 0                 review_id  movie_id    imdb_id  \\\n",
       "0           0  57086ff5c3a3681d29001512      7443  tt0120630   \n",
       "1           1  57b2d23dc3a36837d7000b14       955  tt0120755   \n",
       "2           2  5e9120963679a10018375490       955  tt0120755   \n",
       "3           3  608e2744d8cc4a0058dc4272      2621  tt0122459   \n",
       "4           4  6409202f0e441900e887a17b      4234  tt0134084   \n",
       "\n",
       "           original_title  \\\n",
       "0             Chicken Run   \n",
       "1  Mission: Impossible II   \n",
       "2  Mission: Impossible II   \n",
       "3            Return to Me   \n",
       "4                Scream 3   \n",
       "\n",
       "                                                                                                                                                                                                                                                      review  \\\n",
       "0  A guilty pleasure for me personally, as I love both 'The Great Escape' and most of the works I have seen, over the years, from this rightfully-esteemed British animation company. Highly recommended both for children and for adults who enjoy anima...   \n",
       "1  The first underwhelmed me, but this one straight-up bored me. Again, of course seeing Hunt climb a mountain without a harness is impressive sure. And I even quite liked the idea behind the villain of the piece (though even that angle was woefully...   \n",
       "2  After quite entertainign Mission Impossible I the second installment turned out ... terrible. As if the screenwriters didn't know how to fill the 2 hrs with action the overuse of heroic slow motion scenes is horrible. You almost might need a barf...   \n",
       "3  Okay, I will admit I can be a bit of an easy grader when it comes to romantic comedies, as long as they are witty with likable characters, don’t insult my intelligence and have suitable happy endings (I guess if they don’t end happily, they aren’...   \n",
       "4  **_Scream 3’s_ lackluster screenplay and unimaginative kills leave a film that is a bore to watch.**\\r\\n\\r\\nThe meta-narrative of trilogies throughout the film does not make up for how abysmal the plot was. This film creates so much lore for the ...   \n",
       "\n",
       "   rating sentiment  \\\n",
       "0     9.0      High   \n",
       "1     3.0       Low   \n",
       "2     2.0       Low   \n",
       "3     9.0      High   \n",
       "4     4.0       Low   \n",
       "\n",
       "                                                                                                                                                                                                                                              tokenized_text  \\\n",
       "0                                ['guilty', 'pleasure', 'personally', 'love', 'great', 'escape', 'works', 'seen', 'years', 'rightfully', 'esteemed', 'british', 'animation', 'company', 'highly', 'recommended', 'children', 'adults', 'enjoy', 'animation']   \n",
       "1  ['underwhelmed', 'straight', 'bored', 'course', 'seeing', 'hunt', 'climb', 'mountain', 'harness', 'impressive', 'sure', 'liked', 'idea', 'villain', 'piece', 'angle', 'woefully', 'underdeveloped', 'setting', 'predominantly', 'australia', 'grab', '...   \n",
       "2  ['entertainign', 'mission', 'impossible', 'second', 'installment', 'turned', 'terrible', 'screenwriters', 'know', 'fill', '2', 'hrs', 'action', 'overuse', 'heroic', 'slow', 'motion', 'scenes', 'horrible', 'need', 'barf', 'bag', 'stand', 'slo', 'm...   \n",
       "3  ['okay', 'admit', 'bit', 'easy', 'grader', 'comes', 'romantic', 'comedies', 'long', 'witty', 'likable', 'characters', 'insult', 'intelligence', 'suitable', 'happy', 'endings', 'guess', 'end', 'happily', 'rom', 'coms', 'saw', 'movie', 'years', 'ag...   \n",
       "4  ['scream', '3', 'lackluster', 'screenplay', 'unimaginative', 'kills', 'leave', 'film', 'bore', 'watch', 'meta', 'narrative', 'trilogies', 'film', 'abysmal', 'plot', 'film', 'creates', 'lore', 'past', 'movies', 'seemingly', 'blue', 'muddling', 'co...   \n",
       "\n",
       "                                                                                                                                                                                                                                             lemmatized_text  \\\n",
       "0                                           ['guilty', 'pleasure', 'personally', 'love', 'great', 'escape', 'work', 'see', 'year', 'rightfully', 'esteem', 'british', 'animation', 'company', 'highly', 'recommend', 'child', 'adult', 'enjoy', 'animation']   \n",
       "1  ['underwhelme', 'straight', 'bore', 'course', 'see', 'hunt', 'climb', 'mountain', 'harness', 'impressive', 'sure', 'like', 'idea', 'villain', 'piece', 'angle', 'woefully', 'underdeveloped', 'set', 'predominantly', 'australia', 'grab', 'attention'...   \n",
       "2  ['entertainign', 'mission', 'impossible', 'second', 'installment', 'turn', 'terrible', 'screenwriter', 'know', 'fill', '2', 'hrs', 'action', 'overuse', 'heroic', 'slow', 'motion', 'scene', 'horrible', 'need', 'barf', 'bag', 'stand', 'slo', 'mo', ...   \n",
       "3  ['okay', 'admit', 'bit', 'easy', 'grader', 'come', 'romantic', 'comedy', 'long', 'witty', 'likable', 'character', 'insult', 'intelligence', 'suitable', 'happy', 'ending', 'guess', 'end', 'happily', 'rom', 'com', 'see', 'movie', 'year', 'ago', 'fo...   \n",
       "4  ['scream', '3', 'lackluster', 'screenplay', 'unimaginative', 'kill', 'leave', 'film', 'bore', 'watch', 'meta', 'narrative', 'trilogy', 'film', 'abysmal', 'plot', 'film', 'create', 'lore', 'past', 'movie', 'seemingly', 'blue', 'muddle', 'continuit...   \n",
       "\n",
       "                                                                                                                                                                                                                                      joined_lemmatized_text  \\\n",
       "0                                                                                                        guilty pleasure personally love great escape work see year rightfully esteem british animation company highly recommend child adult enjoy animation   \n",
       "1  underwhelme straight bore course see hunt climb mountain harness impressive sure like idea villain piece angle woefully underdeveloped set predominantly australia grab attention say cause pretty biased come hear tell mission impossible ii low poi...   \n",
       "2  entertainign mission impossible second installment turn terrible screenwriter know fill 2 hrs action overuse heroic slow motion scene horrible need barf bag stand slo mo second 15 second amazed decide push m movie turn well hard beat lousy piece ...   \n",
       "3  okay admit bit easy grader come romantic comedy long witty likable character insult intelligence suitable happy ending guess end happily rom com see movie year ago forget fresh like movie plot rely huge coincidence story get sappy sentimental pla...   \n",
       "4  scream 3 lackluster screenplay unimaginative kill leave film bore watch meta narrative trilogy film abysmal plot film create lore past movie seemingly blue muddle continuity shock value add little film feel force entire plot point sidney mother h...   \n",
       "\n",
       "                                                                                                                                                                                                                                       joined_tokenized_text  \n",
       "0                                                                                             guilty pleasure personally love great escape works seen years rightfully esteemed british animation company highly recommended children adults enjoy animation  \n",
       "1  underwhelmed straight bored course seeing hunt climb mountain harness impressive sure liked idea villain piece angle woefully underdeveloped setting predominantly australia grab attention saying cause pretty biased comes hear tell mission impossi...  \n",
       "2  entertainign mission impossible second installment turned terrible screenwriters know fill 2 hrs action overuse heroic slow motion scenes horrible need barf bag stand slo mo seconds 15 seconds amazed decide push m movies turned better hard beat l...  \n",
       "3  okay admit bit easy grader comes romantic comedies long witty likable characters insult intelligence suitable happy endings guess end happily rom coms saw movie years ago forgotten fresh like movies plot relies huge coincidence story gets sappy s...  \n",
       "4  scream 3 lackluster screenplay unimaginative kills leave film bore watch meta narrative trilogies film abysmal plot film creates lore past movies seemingly blue muddling continuity shock value added little film felt forced entire plot point sidne...  "
      ]
     },
     "execution_count": 4,
     "metadata": {},
     "output_type": "execute_result"
    }
   ],
   "source": [
    "# Load the joblib containing the data frame from Part 5 of the project.\n",
    "df = joblib.load('Data-NLP/movie_reviews_preprocessed.pkl')\n",
    "original_df = df.copy()\n",
    "df.head()"
   ]
  },
  {
   "cell_type": "code",
   "execution_count": 5,
   "metadata": {},
   "outputs": [
    {
     "data": {
      "text/plain": [
       "0"
      ]
     },
     "execution_count": 5,
     "metadata": {},
     "output_type": "execute_result"
    }
   ],
   "source": [
    "# Drop any reviews that do not have a rating.\n",
    "df['rating'].isna().sum()"
   ]
  },
  {
   "cell_type": "markdown",
   "metadata": {},
   "source": [
    "## Build Modeling Pipeline"
   ]
  },
  {
   "cell_type": "markdown",
   "metadata": {},
   "source": [
    "Use the original review column as your X and the classification target (High/Low Rating Reviews) as your y."
   ]
  },
  {
   "cell_type": "code",
   "execution_count": 6,
   "metadata": {},
   "outputs": [
    {
     "data": {
      "text/plain": [
       "((2419,), (2419, 1))"
      ]
     },
     "execution_count": 6,
     "metadata": {},
     "output_type": "execute_result"
    }
   ],
   "source": [
    "X = df['review']\n",
    "y = df[['sentiment']]\n",
    "\n",
    "X.shape, y.shape"
   ]
  },
  {
   "cell_type": "code",
   "execution_count": 7,
   "metadata": {},
   "outputs": [
    {
     "name": "stderr",
     "output_type": "stream",
     "text": [
      "c:\\Users\\dsdye\\anaconda3\\envs\\dojo-env\\lib\\site-packages\\sklearn\\preprocessing\\_label.py:116: DataConversionWarning: A column-vector y was passed when a 1d array was expected. Please change the shape of y to (n_samples, ), for example using ravel().\n",
      "  y = column_or_1d(y, warn=True)\n"
     ]
    },
    {
     "data": {
      "text/plain": [
       "1    1224\n",
       "0    1195\n",
       "dtype: int64"
      ]
     },
     "execution_count": 7,
     "metadata": {},
     "output_type": "execute_result"
    }
   ],
   "source": [
    "# Instantiate the LabelEncoder\n",
    "encoder = LabelEncoder()\n",
    "# Fit and Transform the strings into integers\n",
    "y = pd.Series(encoder.fit_transform(y))\n",
    "y.value_counts()"
   ]
  },
  {
   "cell_type": "markdown",
   "metadata": {},
   "source": [
    "Create a Text Vectorizer"
   ]
  },
  {
   "cell_type": "code",
   "execution_count": 8,
   "metadata": {},
   "outputs": [],
   "source": [
    "# count_vectorizer = CountVectorizer(token_pattern=r'\\b[a-zA-Z]+\\b', stop_words='english', ngram_range=(1, 2))\n",
    "\n",
    "# X = count_vectorizer.fit_transform(df['review'])\n",
    "# count_vectorizer.get_feature_names_out()[:30]"
   ]
  },
  {
   "cell_type": "code",
   "execution_count": 9,
   "metadata": {},
   "outputs": [],
   "source": [
    "# # Convert to Dataset object\n",
    "# ds = tf.data.Dataset.from_tensor_slices((X.toarray(), y))\n",
    "# ds"
   ]
  },
  {
   "cell_type": "code",
   "execution_count": 10,
   "metadata": {},
   "outputs": [],
   "source": [
    "# # Determing how many samples for each split\n",
    "# # Calculate the number of samples for training \n",
    "# split_train = 0.7\n",
    "# n_train_samples =  int(len(ds) * split_train)\n",
    "# print(f\"Use {n_train_samples} samples as training data\")\n",
    "# # Calculate the number of samples for validation\n",
    "# split_val = 0.2\n",
    "# n_val_samples = int(len(ds) * split_val)\n",
    "# print(f\"Use {n_val_samples} samples as validation data\")\n",
    "# # Test size is remainder\n",
    "# split_test = 1 - (split_train + split_val)\n",
    "# print(f\"The remaining {len(ds)- (n_train_samples+n_val_samples)} samples will be used as test data.\")\n"
   ]
  },
  {
   "cell_type": "code",
   "execution_count": 11,
   "metadata": {},
   "outputs": [],
   "source": [
    "# # Use .take to slice out the number of samples for training\n",
    "# train_ds = ds.take(n_train_samples)\n",
    "# # Skipover the training batches\n",
    "# val_ds = ds.skip(n_train_samples)\n",
    "# # Take .take to slice out the correct number of samples for validation\n",
    "# val_ds = val_ds.take(n_val_samples)\n",
    "# # Skip over all of the training + validation samples, the rest remain as samples for testing\n",
    "# test_ds = ds.skip(n_train_samples + n_val_samples)\n"
   ]
  },
  {
   "cell_type": "code",
   "execution_count": 12,
   "metadata": {},
   "outputs": [],
   "source": [
    "# # shuffling the data once\n",
    "# ds = ds.shuffle(buffer_size=len(ds), reshuffle_each_iteration=False)"
   ]
  },
  {
   "cell_type": "code",
   "execution_count": 13,
   "metadata": {},
   "outputs": [],
   "source": [
    "# #  Setting the batch_size for all datasets\n",
    "# BATCH_SIZE = 30\n",
    "# train_ds = train_ds.batch(BATCH_SIZE)\n",
    "# val_ds = val_ds.batch(BATCH_SIZE)\n",
    "# test_ds = test_ds.batch(BATCH_SIZE)\n",
    "# # Confirm the number of batches in each\n",
    "# print (f' There are {len(train_ds)} training batches.')\n",
    "# print (f' There are {len(val_ds)} validation batches.')\n",
    "# print (f' There are {len(test_ds)} testing batches.')\n",
    "\n"
   ]
  },
  {
   "cell_type": "code",
   "execution_count": 14,
   "metadata": {},
   "outputs": [],
   "source": [
    "# # Get just the text from ds_train\n",
    "# ds_texts = train_ds.map(lambda x, y: x)\n",
    "# # Preview the text\n",
    "# ds_texts.take(1).get_single_element()\n",
    "\n"
   ]
  },
  {
   "cell_type": "code",
   "execution_count": 15,
   "metadata": {},
   "outputs": [],
   "source": [
    "# Train test split\n",
    "X_train_full, X_test, y_train_full, y_test = train_test_split(X,y,test_size=0.25, random_state=42, stratify=y)"
   ]
  },
  {
   "cell_type": "code",
   "execution_count": 16,
   "metadata": {},
   "outputs": [
    {
     "data": {
      "text/plain": [
       "((1814,), (1814,), (605,), (605,))"
      ]
     },
     "execution_count": 16,
     "metadata": {},
     "output_type": "execute_result"
    }
   ],
   "source": [
    "X_train_full.shape, y_train_full.shape, X_test.shape, y_test.shape"
   ]
  },
  {
   "cell_type": "code",
   "execution_count": 17,
   "metadata": {},
   "outputs": [],
   "source": [
    "# Create a pipeline\n",
    "pipeline = Pipeline([\n",
    "    ('vect', CountVectorizer(token_pattern=r'\\b[a-zA-Z]+\\b', stop_words='english', ngram_range=(1, 2))),\n",
    "    ('clf', RandomForestClassifier())\n",
    "])\n",
    "\n",
    "# Fit the pipeline to your data\n",
    "# pipeline.fit(X_train_full, y_train_full)\n",
    "\n",
    "# Predict the labels of the test set\n",
    "# y_pred = pipeline.predict(X_test)"
   ]
  },
  {
   "cell_type": "code",
   "execution_count": 20,
   "metadata": {},
   "outputs": [
    {
     "data": {
      "text/html": [
       "<style>#sk-container-id-1 {color: black;background-color: white;}#sk-container-id-1 pre{padding: 0;}#sk-container-id-1 div.sk-toggleable {background-color: white;}#sk-container-id-1 label.sk-toggleable__label {cursor: pointer;display: block;width: 100%;margin-bottom: 0;padding: 0.3em;box-sizing: border-box;text-align: center;}#sk-container-id-1 label.sk-toggleable__label-arrow:before {content: \"▸\";float: left;margin-right: 0.25em;color: #696969;}#sk-container-id-1 label.sk-toggleable__label-arrow:hover:before {color: black;}#sk-container-id-1 div.sk-estimator:hover label.sk-toggleable__label-arrow:before {color: black;}#sk-container-id-1 div.sk-toggleable__content {max-height: 0;max-width: 0;overflow: hidden;text-align: left;background-color: #f0f8ff;}#sk-container-id-1 div.sk-toggleable__content pre {margin: 0.2em;color: black;border-radius: 0.25em;background-color: #f0f8ff;}#sk-container-id-1 input.sk-toggleable__control:checked~div.sk-toggleable__content {max-height: 200px;max-width: 100%;overflow: auto;}#sk-container-id-1 input.sk-toggleable__control:checked~label.sk-toggleable__label-arrow:before {content: \"▾\";}#sk-container-id-1 div.sk-estimator input.sk-toggleable__control:checked~label.sk-toggleable__label {background-color: #d4ebff;}#sk-container-id-1 div.sk-label input.sk-toggleable__control:checked~label.sk-toggleable__label {background-color: #d4ebff;}#sk-container-id-1 input.sk-hidden--visually {border: 0;clip: rect(1px 1px 1px 1px);clip: rect(1px, 1px, 1px, 1px);height: 1px;margin: -1px;overflow: hidden;padding: 0;position: absolute;width: 1px;}#sk-container-id-1 div.sk-estimator {font-family: monospace;background-color: #f0f8ff;border: 1px dotted black;border-radius: 0.25em;box-sizing: border-box;margin-bottom: 0.5em;}#sk-container-id-1 div.sk-estimator:hover {background-color: #d4ebff;}#sk-container-id-1 div.sk-parallel-item::after {content: \"\";width: 100%;border-bottom: 1px solid gray;flex-grow: 1;}#sk-container-id-1 div.sk-label:hover label.sk-toggleable__label {background-color: #d4ebff;}#sk-container-id-1 div.sk-serial::before {content: \"\";position: absolute;border-left: 1px solid gray;box-sizing: border-box;top: 0;bottom: 0;left: 50%;z-index: 0;}#sk-container-id-1 div.sk-serial {display: flex;flex-direction: column;align-items: center;background-color: white;padding-right: 0.2em;padding-left: 0.2em;position: relative;}#sk-container-id-1 div.sk-item {position: relative;z-index: 1;}#sk-container-id-1 div.sk-parallel {display: flex;align-items: stretch;justify-content: center;background-color: white;position: relative;}#sk-container-id-1 div.sk-item::before, #sk-container-id-1 div.sk-parallel-item::before {content: \"\";position: absolute;border-left: 1px solid gray;box-sizing: border-box;top: 0;bottom: 0;left: 50%;z-index: -1;}#sk-container-id-1 div.sk-parallel-item {display: flex;flex-direction: column;z-index: 1;position: relative;background-color: white;}#sk-container-id-1 div.sk-parallel-item:first-child::after {align-self: flex-end;width: 50%;}#sk-container-id-1 div.sk-parallel-item:last-child::after {align-self: flex-start;width: 50%;}#sk-container-id-1 div.sk-parallel-item:only-child::after {width: 0;}#sk-container-id-1 div.sk-dashed-wrapped {border: 1px dashed gray;margin: 0 0.4em 0.5em 0.4em;box-sizing: border-box;padding-bottom: 0.4em;background-color: white;}#sk-container-id-1 div.sk-label label {font-family: monospace;font-weight: bold;display: inline-block;line-height: 1.2em;}#sk-container-id-1 div.sk-label-container {text-align: center;}#sk-container-id-1 div.sk-container {/* jupyter's `normalize.less` sets `[hidden] { display: none; }` but bootstrap.min.css set `[hidden] { display: none !important; }` so we also need the `!important` here to be able to override the default hidden behavior on the sphinx rendered scikit-learn.org. See: https://github.com/scikit-learn/scikit-learn/issues/21755 */display: inline-block !important;position: relative;}#sk-container-id-1 div.sk-text-repr-fallback {display: none;}</style><div id=\"sk-container-id-1\" class=\"sk-top-container\"><div class=\"sk-text-repr-fallback\"><pre>Pipeline(steps=[(&#x27;vect&#x27;,\n",
       "                 CountVectorizer(ngram_range=(1, 2), stop_words=&#x27;english&#x27;,\n",
       "                                 token_pattern=&#x27;\\\\b[a-zA-Z]+\\\\b&#x27;)),\n",
       "                (&#x27;clf&#x27;, RandomForestClassifier())])</pre><b>In a Jupyter environment, please rerun this cell to show the HTML representation or trust the notebook. <br />On GitHub, the HTML representation is unable to render, please try loading this page with nbviewer.org.</b></div><div class=\"sk-container\" hidden><div class=\"sk-item sk-dashed-wrapped\"><div class=\"sk-label-container\"><div class=\"sk-label sk-toggleable\"><input class=\"sk-toggleable__control sk-hidden--visually\" id=\"sk-estimator-id-1\" type=\"checkbox\" ><label for=\"sk-estimator-id-1\" class=\"sk-toggleable__label sk-toggleable__label-arrow\">Pipeline</label><div class=\"sk-toggleable__content\"><pre>Pipeline(steps=[(&#x27;vect&#x27;,\n",
       "                 CountVectorizer(ngram_range=(1, 2), stop_words=&#x27;english&#x27;,\n",
       "                                 token_pattern=&#x27;\\\\b[a-zA-Z]+\\\\b&#x27;)),\n",
       "                (&#x27;clf&#x27;, RandomForestClassifier())])</pre></div></div></div><div class=\"sk-serial\"><div class=\"sk-item\"><div class=\"sk-estimator sk-toggleable\"><input class=\"sk-toggleable__control sk-hidden--visually\" id=\"sk-estimator-id-2\" type=\"checkbox\" ><label for=\"sk-estimator-id-2\" class=\"sk-toggleable__label sk-toggleable__label-arrow\">CountVectorizer</label><div class=\"sk-toggleable__content\"><pre>CountVectorizer(ngram_range=(1, 2), stop_words=&#x27;english&#x27;,\n",
       "                token_pattern=&#x27;\\\\b[a-zA-Z]+\\\\b&#x27;)</pre></div></div></div><div class=\"sk-item\"><div class=\"sk-estimator sk-toggleable\"><input class=\"sk-toggleable__control sk-hidden--visually\" id=\"sk-estimator-id-3\" type=\"checkbox\" ><label for=\"sk-estimator-id-3\" class=\"sk-toggleable__label sk-toggleable__label-arrow\">RandomForestClassifier</label><div class=\"sk-toggleable__content\"><pre>RandomForestClassifier()</pre></div></div></div></div></div></div></div>"
      ],
      "text/plain": [
       "Pipeline(steps=[('vect',\n",
       "                 CountVectorizer(ngram_range=(1, 2), stop_words='english',\n",
       "                                 token_pattern='\\\\b[a-zA-Z]+\\\\b')),\n",
       "                ('clf', RandomForestClassifier())])"
      ]
     },
     "execution_count": 20,
     "metadata": {},
     "output_type": "execute_result"
    }
   ],
   "source": [
    "pipeline.fit(X_train_full, y_train_full)"
   ]
  },
  {
   "cell_type": "markdown",
   "metadata": {},
   "source": [
    "predict"
   ]
  },
  {
   "cell_type": "code",
   "execution_count": 21,
   "metadata": {},
   "outputs": [],
   "source": [
    "y_pred = pipeline.predict(X_test)"
   ]
  },
  {
   "cell_type": "code",
   "execution_count": 22,
   "metadata": {},
   "outputs": [
    {
     "name": "stdout",
     "output_type": "stream",
     "text": [
      "----------------------------------------------------------------------\n",
      " Classification Metrics: \n",
      "----------------------------------------------------------------------\n",
      "              precision    recall  f1-score   support\n",
      "\n",
      "           0       0.78      0.86      0.81       299\n",
      "           1       0.84      0.76      0.80       306\n",
      "\n",
      "    accuracy                           0.81       605\n",
      "   macro avg       0.81      0.81      0.81       605\n",
      "weighted avg       0.81      0.81      0.81       605\n",
      "\n"
     ]
    },
    {
     "data": {
      "image/png": "[encoded data removed]",
      "text/plain": [
       "<Figure size 800x400 with 2 Axes>"
      ]
     },
     "metadata": {},
     "output_type": "display_data"
    }
   ],
   "source": [
    "fn.classification_metrics(y_test, y_pred)"
   ]
  },
  {
   "cell_type": "markdown",
   "metadata": {},
   "source": [
    "In a Markdown cell, document your observations from your results. (e.g., how good is the model overall? Is it particularly good/bad at predicting one class?)\n",
    "  * The model is best at predicting low-rating movies (0, 0)"
   ]
  },
  {
   "cell_type": "code",
   "execution_count": 18,
   "metadata": {},
   "outputs": [],
   "source": [
    "# Create Text Vectorization Layer\n",
    "# tfidf_vectorizer = tf.keras.layers.TextVectorization(\n",
    "#     standardize=\"lower_and_strip_punctuation\",\n",
    "#     output_mode=\"count\",\n",
    "# )\n"
   ]
  },
  {
   "cell_type": "code",
   "execution_count": 19,
   "metadata": {},
   "outputs": [
    {
     "ename": "NameError",
     "evalue": "name 'count_vectorizer' is not defined",
     "output_type": "error",
     "traceback": [
      "\u001b[1;31m---------------------------------------------------------------------------\u001b[0m",
      "\u001b[1;31mNameError\u001b[0m                                 Traceback (most recent call last)",
      "Cell \u001b[1;32mIn[19], line 4\u001b[0m\n\u001b[0;32m      1\u001b[0m \u001b[38;5;66;03m# Build the vectorizer vocabulary\u001b[39;00m\n\u001b[0;32m      2\u001b[0m \u001b[38;5;66;03m# tfidf_vectorizer.adapt(ds_texts)\u001b[39;00m\n\u001b[0;32m      3\u001b[0m \u001b[38;5;66;03m# Confrim vocabulary size\u001b[39;00m\n\u001b[1;32m----> 4\u001b[0m \u001b[43mcount_vectorizer\u001b[49m\u001b[38;5;241m.\u001b[39mvocabulary_\n",
      "\u001b[1;31mNameError\u001b[0m: name 'count_vectorizer' is not defined"
     ]
    }
   ],
   "source": [
    "\n",
    "\n"
   ]
  },
  {
   "cell_type": "code",
   "execution_count": null,
   "metadata": {},
   "outputs": [],
   "source": [
    "\n",
    "\n",
    "# GridSearch Text Vectorization\n",
    "\n",
    "# Attempt to improve your model by tuning the text preprocessing steps.\n",
    "\n",
    "# Construct a grid of parameters for the text vectorization step. Consider trying:\n",
    "\n",
    "# CountVectorizer/TfidfVectorizer\n",
    "# stopwords\n",
    "# ngram_range\n",
    "# min_df/max_df\n",
    "# Fit and evaluate the grid search results:\n",
    "\n",
    "# What were the best parameters?\n",
    "# How does the best estimator perform when evaluated on the training and test data?\n",
    "\n",
    "\n",
    "# Deep NLP (RNNs)\n",
    "# For this part of the project, you will use a Keras TextVectorization layer as part of your RNN model. This serves the same purpose as using the sklearn pipeline: it bundles text preparation into the model, making it deployment-ready.\n",
    "\n",
    "# Create train/test/val datasets\n",
    "\n",
    "# Convert the target categories to integers (e.g., Using sklearn's LabelEncoder)\n",
    "# Create a tensorflow dataset using the X and (integer version) of y.\n",
    "# Split the dataset into training, test, and validation datasets.\n",
    "# Create a Keras Text Vectorization layer\n",
    "\n",
    "# Create a Keras text vectorization layer for an RNN (sequence) model.\n",
    "# Fit/Adapt the text vectorization layer on the training texts.\n",
    "# Save the vocabulary size from the layer to use in your models' Embedding layer.\n",
    "# Build an RNN with the TextVectorization Layer\n",
    "\n",
    "# Build and fit at least 1 sequence model (LSTM, GRU, Bidirectional, etc.)\n",
    "\n",
    "# Evaluate the model on the training and test data.\n",
    "\n",
    "# In a Markdown cell, document your observations from your results. (e.g., How did the RNN compare to your ML model? Was it superior to your ML model in some way (e.g., accuracy, recall, etc.)\n",
    "# Deliverables:\n",
    "\n",
    "# New notebook file for text classification"
   ]
  },
  {
   "cell_type": "code",
   "execution_count": null,
   "metadata": {},
   "outputs": [],
   "source": []
  },
  {
   "cell_type": "code",
   "execution_count": null,
   "metadata": {},
   "outputs": [],
   "source": []
  },
  {
   "cell_type": "code",
   "execution_count": null,
   "metadata": {},
   "outputs": [],
   "source": []
  },
  {
   "cell_type": "code",
   "execution_count": null,
   "metadata": {},
   "outputs": [],
   "source": []
  },
  {
   "cell_type": "code",
   "execution_count": null,
   "metadata": {},
   "outputs": [],
   "source": []
  },
  {
   "cell_type": "code",
   "execution_count": null,
   "metadata": {},
   "outputs": [],
   "source": []
  },
  {
   "cell_type": "code",
   "execution_count": null,
   "metadata": {},
   "outputs": [],
   "source": []
  },
  {
   "cell_type": "code",
   "execution_count": null,
   "metadata": {},
   "outputs": [],
   "source": []
  }
 ],
 "metadata": {
  "kernelspec": {
   "display_name": "dojo-env",
   "language": "python",
   "name": "python3"
  },
  "language_info": {
   "codemirror_mode": {
    "name": "ipython",
    "version": 3
   },
   "file_extension": ".py",
   "mimetype": "text/x-python",
   "name": "python",
   "nbconvert_exporter": "python",
   "pygments_lexer": "ipython3",
   "version": "3.10.11"
  }
 },
 "nbformat": 4,
 "nbformat_minor": 2
}
