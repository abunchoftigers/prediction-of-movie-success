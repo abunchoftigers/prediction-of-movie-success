{
 "cells": [
  {
   "cell_type": "code",
   "execution_count": 1,
   "id": "c9d46860-820c-4cde-8f29-8bcf004613d2",
   "metadata": {},
   "outputs": [],
   "source": [
    "def write_json(new_data, filename): \n",
    "    \"\"\"Appends a list of records (new_data) to a json file (filename). \n",
    "    Adapted from: https://www.geeksforgeeks.org/append-to-json-file-using-python/\"\"\"  \n",
    "    \n",
    "    with open(filename,'r+') as file:\n",
    "        # First we load existing data into a dict.\n",
    "        file_data = json.load(file)\n",
    "        ## Choose extend or append\n",
    "        if (type(new_data) == list) & (type(file_data) == list):\n",
    "            file_data.extend(new_data)\n",
    "        else:\n",
    "             file_data.append(new_data)\n",
    "        # Sets file's current position at offset.\n",
    "        file.seek(0)\n",
    "        # convert back to json.\n",
    "        json.dump(file_data, file)\n"
   ]
  },
  {
   "cell_type": "code",
   "execution_count": 2,
   "id": "54d60075-f887-46fe-8276-e54cb2ba1eed",
   "metadata": {},
   "outputs": [],
   "source": [
    "def get_movie_with_rating(movie_id):\n",
    "    # Get the movie object for the current id\n",
    "    movie = tmdb.Movies(movie_id)\n",
    "    \n",
    "    # save the .info .releases dictionaries\n",
    "    movie_info = movie.info()\n",
    "    releases = movie.releases()\n",
    "    \n",
    "    # Loop through countries in releases\n",
    "    for c in releases['countries']:\n",
    "        # if the country abbreviation==US\n",
    "        if c['iso_3166_1' ] =='US':\n",
    "            ## save a \"certification\" key in the info dict with the certification\n",
    "            movie_info['certification'] = c['certification']\n",
    "    return movie_info"
   ]
  },
  {
   "cell_type": "code",
   "execution_count": 3,
   "id": "e3607d6c-db39-4b12-af1f-abe0ba63ca3f",
   "metadata": {},
   "outputs": [],
   "source": [
    "import pandas as pd\n",
    "import matplotlib.pyplot as plt\n",
    "import seaborn as sns\n",
    "import os, json, time\n",
    "from tqdm.notebook import tqdm_notebook"
   ]
  },
  {
   "cell_type": "code",
   "execution_count": 4,
   "id": "9bb1ff38-7265-4c8b-9a8c-8fcf6abced21",
   "metadata": {},
   "outputs": [
    {
     "data": {
      "text/plain": [
       "dict_keys(['api-key', 'api-read-access-token'])"
      ]
     },
     "execution_count": 4,
     "metadata": {},
     "output_type": "execute_result"
    }
   ],
   "source": [
    "import json\n",
    "with open('/Users/dsdye/.secret/tmdb_api.json', 'r') as f:\n",
    "    login = json.load(f)\n",
    "## Display the keys of the loaded dict\n",
    "login.keys()"
   ]
  },
  {
   "cell_type": "code",
   "execution_count": 5,
   "id": "ecd8f28a-d888-4e81-a716-55faf1097c13",
   "metadata": {},
   "outputs": [
    {
     "name": "stdout",
     "output_type": "stream",
     "text": [
      "Requirement already satisfied: tmdbsimple in c:\\users\\dsdye\\anaconda3\\envs\\dojo-env\\lib\\site-packages (2.9.1)\n",
      "Requirement already satisfied: requests in c:\\users\\dsdye\\anaconda3\\envs\\dojo-env\\lib\\site-packages (from tmdbsimple) (2.29.0)\n",
      "Requirement already satisfied: charset-normalizer<4,>=2 in c:\\users\\dsdye\\anaconda3\\envs\\dojo-env\\lib\\site-packages (from requests->tmdbsimple) (2.0.4)\n",
      "Requirement already satisfied: idna<4,>=2.5 in c:\\users\\dsdye\\anaconda3\\envs\\dojo-env\\lib\\site-packages (from requests->tmdbsimple) (3.4)\n",
      "Requirement already satisfied: urllib3<1.27,>=1.21.1 in c:\\users\\dsdye\\anaconda3\\envs\\dojo-env\\lib\\site-packages (from requests->tmdbsimple) (1.26.15)\n",
      "Requirement already satisfied: certifi>=2017.4.17 in c:\\users\\dsdye\\anaconda3\\envs\\dojo-env\\lib\\site-packages (from requests->tmdbsimple) (2023.5.7)\n"
     ]
    }
   ],
   "source": [
    "!pip install tmdbsimple"
   ]
  },
  {
   "cell_type": "code",
   "execution_count": 6,
   "id": "a1a106ce-823f-4271-9c1e-72a6aa49e2ab",
   "metadata": {},
   "outputs": [],
   "source": [
    "import tmdbsimple as tmdb\n",
    "tmdb.API_KEY =  login['api-key']"
   ]
  },
  {
   "cell_type": "code",
   "execution_count": 7,
   "id": "f9b1e290-4db4-4967-8ea2-72356ecce70a",
   "metadata": {},
   "outputs": [],
   "source": [
    "## make a movie object using the .Movies function from tmdb\n",
    "movie = tmdb.Movies(603)"
   ]
  },
  {
   "cell_type": "code",
   "execution_count": 8,
   "id": "2466b11e-7419-4c25-9576-c512cc347dcf",
   "metadata": {},
   "outputs": [
    {
     "data": {
      "text/plain": [
       "{'adult': False,\n",
       " 'backdrop_path': '/giBJ0ezYNEobFBfB8H4JNTjmll.jpg',\n",
       " 'belongs_to_collection': {'id': 2344,\n",
       "  'name': 'The Matrix Collection',\n",
       "  'poster_path': '/bV9qTVHTVf0gkW0j7p7M0ILD4pG.jpg',\n",
       "  'backdrop_path': '/bRm2DEgUiYciDw3myHuYFInD7la.jpg'},\n",
       " 'budget': 63000000,\n",
       " 'genres': [{'id': 28, 'name': 'Action'},\n",
       "  {'id': 878, 'name': 'Science Fiction'}],\n",
       " 'homepage': 'http://www.warnerbros.com/matrix',\n",
       " 'id': 603,\n",
       " 'imdb_id': 'tt0133093',\n",
       " 'original_language': 'en',\n",
       " 'original_title': 'The Matrix',\n",
       " 'overview': 'Set in the 22nd century, The Matrix tells the story of a computer hacker who joins a group of underground insurgents fighting the vast and powerful computers who now rule the earth.',\n",
       " 'popularity': 77.984,\n",
       " 'poster_path': '/f89U3ADr1oiB1s9GkdPOEpXUk5H.jpg',\n",
       " 'production_companies': [{'id': 79,\n",
       "   'logo_path': '/at4uYdwAAgNRKhZuuFX8ShKSybw.png',\n",
       "   'name': 'Village Roadshow Pictures',\n",
       "   'origin_country': 'US'},\n",
       "  {'id': 372,\n",
       "   'logo_path': None,\n",
       "   'name': 'Groucho II Film Partnership',\n",
       "   'origin_country': ''},\n",
       "  {'id': 1885,\n",
       "   'logo_path': '/xlvoOZr4s1PygosrwZyolIFe5xs.png',\n",
       "   'name': 'Silver Pictures',\n",
       "   'origin_country': 'US'},\n",
       "  {'id': 174,\n",
       "   'logo_path': '/IuAlhI9eVC9Z8UQWOIDdWRKSEJ.png',\n",
       "   'name': 'Warner Bros. Pictures',\n",
       "   'origin_country': 'US'}],\n",
       " 'production_countries': [{'iso_3166_1': 'US',\n",
       "   'name': 'United States of America'}],\n",
       " 'release_date': '1999-03-30',\n",
       " 'revenue': 463517383,\n",
       " 'runtime': 136,\n",
       " 'spoken_languages': [{'english_name': 'English',\n",
       "   'iso_639_1': 'en',\n",
       "   'name': 'English'}],\n",
       " 'status': 'Released',\n",
       " 'tagline': 'The fight for the future begins.',\n",
       " 'title': 'The Matrix',\n",
       " 'video': False,\n",
       " 'vote_average': 8.21,\n",
       " 'vote_count': 24179}"
      ]
     },
     "execution_count": 8,
     "metadata": {},
     "output_type": "execute_result"
    }
   ],
   "source": [
    "## movie objects have a .info dictionary \n",
    "info = movie.info()\n",
    "info"
   ]
  },
  {
   "cell_type": "code",
   "execution_count": 9,
   "id": "bb6ca8ef-da99-49dc-a5b3-8fb9b7422154",
   "metadata": {},
   "outputs": [
    {
     "data": {
      "text/plain": [
       "463517383"
      ]
     },
     "execution_count": 9,
     "metadata": {},
     "output_type": "execute_result"
    }
   ],
   "source": [
    "# info['budget']\n",
    "info['revenue']\n",
    "# info['imdb_id']"
   ]
  },
  {
   "cell_type": "code",
   "execution_count": 10,
   "id": "f5734363-7424-44f7-98b8-a492c2e3f1b8",
   "metadata": {},
   "outputs": [
    {
     "name": "stdout",
     "output_type": "stream",
     "text": [
      "R\n",
      "R\n"
     ]
    }
   ],
   "source": [
    "# example from package README\n",
    "# source = https://github.com/celiao/tmdbsimple\n",
    "releases = movie.releases()\n",
    "for c in releases['countries']:\n",
    "    if c['iso_3166_1'] == 'US':\n",
    "        print(c['certification'])"
   ]
  },
  {
   "cell_type": "code",
   "execution_count": 11,
   "id": "c84c8dda-df72-46dd-94e3-d1ae125d9e9a",
   "metadata": {},
   "outputs": [],
   "source": [
    "# Get the movie object for the current id\n",
    "movie = tmdb.Movies('tt1361336')\n",
    "# save the .info .releases dictionaries\n",
    "info = movie.info()\n",
    "releases = movie.releases()\n",
    "# Loop through countries in releases\n",
    "for c in releases['countries']:\n",
    "    # if the country abbreviation==US\n",
    "    if c['iso_3166_1' ] =='US':\n",
    "        ## save a \"certification\" key in the info dict with the certification\n",
    "       info['certification'] = c['certification']\n"
   ]
  },
  {
   "cell_type": "code",
   "execution_count": 12,
   "id": "1f4653af-e3eb-45c7-a5a4-890ac11e84c2",
   "metadata": {},
   "outputs": [
    {
     "data": {
      "text/html": [
       "<div>\n",
       "<style scoped>\n",
       "    .dataframe tbody tr th:only-of-type {\n",
       "        vertical-align: middle;\n",
       "    }\n",
       "\n",
       "    .dataframe tbody tr th {\n",
       "        vertical-align: top;\n",
       "    }\n",
       "\n",
       "    .dataframe thead th {\n",
       "        text-align: right;\n",
       "    }\n",
       "</style>\n",
       "<table border=\"1\" class=\"dataframe\">\n",
       "  <thead>\n",
       "    <tr style=\"text-align: right;\">\n",
       "      <th></th>\n",
       "      <th>tconst</th>\n",
       "      <th>titleType</th>\n",
       "      <th>primaryTitle</th>\n",
       "      <th>originalTitle</th>\n",
       "      <th>isAdult</th>\n",
       "      <th>startYear</th>\n",
       "      <th>endYear</th>\n",
       "      <th>runtime</th>\n",
       "      <th>genres</th>\n",
       "    </tr>\n",
       "  </thead>\n",
       "  <tbody>\n",
       "    <tr>\n",
       "      <th>0</th>\n",
       "      <td>tt0035423</td>\n",
       "      <td>movie</td>\n",
       "      <td>Kate &amp; Leopold</td>\n",
       "      <td>Kate &amp; Leopold</td>\n",
       "      <td>0</td>\n",
       "      <td>2001</td>\n",
       "      <td>NaN</td>\n",
       "      <td>118.0</td>\n",
       "      <td>Comedy,Fantasy,Romance</td>\n",
       "    </tr>\n",
       "    <tr>\n",
       "      <th>1</th>\n",
       "      <td>tt0062336</td>\n",
       "      <td>movie</td>\n",
       "      <td>The Tango of the Widower and Its Distorting Mi...</td>\n",
       "      <td>El tango del viudo y su espejo deformante</td>\n",
       "      <td>0</td>\n",
       "      <td>2020</td>\n",
       "      <td>NaN</td>\n",
       "      <td>70.0</td>\n",
       "      <td>Drama</td>\n",
       "    </tr>\n",
       "    <tr>\n",
       "      <th>2</th>\n",
       "      <td>tt0069049</td>\n",
       "      <td>movie</td>\n",
       "      <td>The Other Side of the Wind</td>\n",
       "      <td>The Other Side of the Wind</td>\n",
       "      <td>0</td>\n",
       "      <td>2018</td>\n",
       "      <td>NaN</td>\n",
       "      <td>122.0</td>\n",
       "      <td>Drama</td>\n",
       "    </tr>\n",
       "    <tr>\n",
       "      <th>3</th>\n",
       "      <td>tt0088751</td>\n",
       "      <td>movie</td>\n",
       "      <td>The Naked Monster</td>\n",
       "      <td>The Naked Monster</td>\n",
       "      <td>0</td>\n",
       "      <td>2005</td>\n",
       "      <td>NaN</td>\n",
       "      <td>100.0</td>\n",
       "      <td>Comedy,Horror,Sci-Fi</td>\n",
       "    </tr>\n",
       "    <tr>\n",
       "      <th>4</th>\n",
       "      <td>tt0096056</td>\n",
       "      <td>movie</td>\n",
       "      <td>Crime and Punishment</td>\n",
       "      <td>Crime and Punishment</td>\n",
       "      <td>0</td>\n",
       "      <td>2002</td>\n",
       "      <td>NaN</td>\n",
       "      <td>126.0</td>\n",
       "      <td>Drama</td>\n",
       "    </tr>\n",
       "    <tr>\n",
       "      <th>...</th>\n",
       "      <td>...</td>\n",
       "      <td>...</td>\n",
       "      <td>...</td>\n",
       "      <td>...</td>\n",
       "      <td>...</td>\n",
       "      <td>...</td>\n",
       "      <td>...</td>\n",
       "      <td>...</td>\n",
       "      <td>...</td>\n",
       "    </tr>\n",
       "    <tr>\n",
       "      <th>104631</th>\n",
       "      <td>tt9915872</td>\n",
       "      <td>movie</td>\n",
       "      <td>The Last White Witch</td>\n",
       "      <td>My Girlfriend is a Wizard</td>\n",
       "      <td>0</td>\n",
       "      <td>2019</td>\n",
       "      <td>NaN</td>\n",
       "      <td>97.0</td>\n",
       "      <td>Comedy,Drama,Fantasy</td>\n",
       "    </tr>\n",
       "    <tr>\n",
       "      <th>104632</th>\n",
       "      <td>tt9916170</td>\n",
       "      <td>movie</td>\n",
       "      <td>The Rehearsal</td>\n",
       "      <td>O Ensaio</td>\n",
       "      <td>0</td>\n",
       "      <td>2019</td>\n",
       "      <td>NaN</td>\n",
       "      <td>51.0</td>\n",
       "      <td>Drama</td>\n",
       "    </tr>\n",
       "    <tr>\n",
       "      <th>104633</th>\n",
       "      <td>tt9916190</td>\n",
       "      <td>movie</td>\n",
       "      <td>Safeguard</td>\n",
       "      <td>Safeguard</td>\n",
       "      <td>0</td>\n",
       "      <td>2020</td>\n",
       "      <td>NaN</td>\n",
       "      <td>95.0</td>\n",
       "      <td>Action,Adventure,Thriller</td>\n",
       "    </tr>\n",
       "    <tr>\n",
       "      <th>104634</th>\n",
       "      <td>tt9916362</td>\n",
       "      <td>movie</td>\n",
       "      <td>Coven</td>\n",
       "      <td>Akelarre</td>\n",
       "      <td>0</td>\n",
       "      <td>2020</td>\n",
       "      <td>NaN</td>\n",
       "      <td>92.0</td>\n",
       "      <td>Drama,History</td>\n",
       "    </tr>\n",
       "    <tr>\n",
       "      <th>104635</th>\n",
       "      <td>tt9916428</td>\n",
       "      <td>movie</td>\n",
       "      <td>The Secret of China</td>\n",
       "      <td>Hong xing zhao yao Zhong guo</td>\n",
       "      <td>0</td>\n",
       "      <td>2019</td>\n",
       "      <td>NaN</td>\n",
       "      <td>NaN</td>\n",
       "      <td>Adventure,History,War</td>\n",
       "    </tr>\n",
       "  </tbody>\n",
       "</table>\n",
       "<p>104636 rows × 9 columns</p>\n",
       "</div>"
      ],
      "text/plain": [
       "           tconst titleType  \\\n",
       "0       tt0035423     movie   \n",
       "1       tt0062336     movie   \n",
       "2       tt0069049     movie   \n",
       "3       tt0088751     movie   \n",
       "4       tt0096056     movie   \n",
       "...           ...       ...   \n",
       "104631  tt9915872     movie   \n",
       "104632  tt9916170     movie   \n",
       "104633  tt9916190     movie   \n",
       "104634  tt9916362     movie   \n",
       "104635  tt9916428     movie   \n",
       "\n",
       "                                             primaryTitle  \\\n",
       "0                                          Kate & Leopold   \n",
       "1       The Tango of the Widower and Its Distorting Mi...   \n",
       "2                              The Other Side of the Wind   \n",
       "3                                       The Naked Monster   \n",
       "4                                    Crime and Punishment   \n",
       "...                                                   ...   \n",
       "104631                               The Last White Witch   \n",
       "104632                                      The Rehearsal   \n",
       "104633                                          Safeguard   \n",
       "104634                                              Coven   \n",
       "104635                                The Secret of China   \n",
       "\n",
       "                                    originalTitle  isAdult  startYear  \\\n",
       "0                                  Kate & Leopold        0       2001   \n",
       "1       El tango del viudo y su espejo deformante        0       2020   \n",
       "2                      The Other Side of the Wind        0       2018   \n",
       "3                               The Naked Monster        0       2005   \n",
       "4                            Crime and Punishment        0       2002   \n",
       "...                                           ...      ...        ...   \n",
       "104631                  My Girlfriend is a Wizard        0       2019   \n",
       "104632                                   O Ensaio        0       2019   \n",
       "104633                                  Safeguard        0       2020   \n",
       "104634                                   Akelarre        0       2020   \n",
       "104635               Hong xing zhao yao Zhong guo        0       2019   \n",
       "\n",
       "        endYear  runtime                     genres  \n",
       "0           NaN    118.0     Comedy,Fantasy,Romance  \n",
       "1           NaN     70.0                      Drama  \n",
       "2           NaN    122.0                      Drama  \n",
       "3           NaN    100.0       Comedy,Horror,Sci-Fi  \n",
       "4           NaN    126.0                      Drama  \n",
       "...         ...      ...                        ...  \n",
       "104631      NaN     97.0       Comedy,Drama,Fantasy  \n",
       "104632      NaN     51.0                      Drama  \n",
       "104633      NaN     95.0  Action,Adventure,Thriller  \n",
       "104634      NaN     92.0              Drama,History  \n",
       "104635      NaN      NaN      Adventure,History,War  \n",
       "\n",
       "[104636 rows x 9 columns]"
      ]
     },
     "execution_count": 12,
     "metadata": {},
     "output_type": "execute_result"
    }
   ],
   "source": [
    "basics = pd.read_csv('Data/basics.csv')\n",
    "basics"
   ]
  },
  {
   "cell_type": "code",
   "execution_count": 16,
   "id": "fb7af302-2610-4345-9e01-909de44d44bc",
   "metadata": {},
   "outputs": [],
   "source": [
    "FOLDER = 'Data/'\n",
    "YEARS_TO_GET = [2001,2002]\n",
    "errors = []"
   ]
  },
  {
   "cell_type": "code",
   "execution_count": 19,
   "id": "1aa8f807-5290-4cb0-87a6-6282fe864853",
   "metadata": {},
   "outputs": [
    {
     "data": {
      "application/vnd.jupyter.widget-view+json": {
       "model_id": "8c30af7c23fd4bde97ceda74300a7f9d",
       "version_major": 2,
       "version_minor": 0
      },
      "text/plain": [
       "YEARS:   0%|          | 0/2 [00:00<?, ?it/s]"
      ]
     },
     "metadata": {},
     "output_type": "display_data"
    },
    {
     "name": "stdout",
     "output_type": "stream",
     "text": [
      "The file Data/tmdb_api_results_2001.json already exists.\n"
     ]
    },
    {
     "data": {
      "application/vnd.jupyter.widget-view+json": {
       "model_id": "14d76a9a0d0948e1badd6477786765be",
       "version_major": 2,
       "version_minor": 0
      },
      "text/plain": [
       "Movies from 2001:   0%|          | 0/2003 [00:00<?, ?it/s]"
      ]
     },
     "metadata": {},
     "output_type": "display_data"
    },
    {
     "name": "stdout",
     "output_type": "stream",
     "text": [
      "- Total errors: 546\n",
      "The file Data/tmdb_api_results_2002.json already exists.\n"
     ]
    },
    {
     "data": {
      "application/vnd.jupyter.widget-view+json": {
       "model_id": "744e0a768c4f4129a89ef52f43a1c350",
       "version_major": 2,
       "version_minor": 0
      },
      "text/plain": [
       "Movies from 2002:   0%|          | 0/1982 [00:00<?, ?it/s]"
      ]
     },
     "metadata": {},
     "output_type": "display_data"
    },
    {
     "name": "stdout",
     "output_type": "stream",
     "text": [
      "- Total errors: 1135\n"
     ]
    }
   ],
   "source": [
    "# Start of OUTER loop\n",
    "for YEAR in tqdm_notebook(YEARS_TO_GET, desc='YEARS', position=0):\n",
    "    JSON_FILE = f'{FOLDER}tmdb_api_results_{YEAR}.json'\n",
    "    \n",
    "    file_exists = os.path.isfile(JSON_FILE)\n",
    "    \n",
    "    if file_exists == False:\n",
    "        print(f\"Creating {JSON_FILE} for API results for year={YEAR}.\")\n",
    "        \n",
    "        # save an empty dict with just \"imdb_id\" to the new json file.\n",
    "        with open(JSON_FILE,'w') as f:\n",
    "            json.dump([{'imdb_id':0}],f)\n",
    "    \n",
    "    else:\n",
    "        print(f'The file {JSON_FILE} already exists.')\n",
    "\n",
    "\n",
    "    # Filtering for movies from selected startYear\n",
    "    df = basics.loc[ basics['startYear']==YEAR].copy()\n",
    "    # saving movie ids to list\n",
    "    movie_ids = df['tconst']\n",
    "    movie_ids.head()\n",
    "\n",
    "    # Load existing data from json into a dataframe called \"previous_df\"\n",
    "    previous_df = pd.read_json(JSON_FILE)\n",
    "    previous_df\n",
    "    \n",
    "    movie_ids_to_get = movie_ids[~movie_ids.isin(previous_df['imdb_id'])]\n",
    "    \n",
    "    # Loop through movie_ids_to_get with a tqdm progress bar\n",
    "    for movie_id in tqdm_notebook(movie_ids_to_get, f\"Movies from {YEAR}\"):\n",
    "    \n",
    "        # Attempt to retrieve then data for the movie id\n",
    "        try:\n",
    "            temp = get_movie_with_rating(movie_id)  #This uses your pre-ma    de function\n",
    "            # Append/extend results to existing file using a pre-made function\n",
    "            write_json(temp,JSON_FILE)\n",
    "            # Short 20 ms sleep to prevent overwhelming server\n",
    "            time.sleep(0.02)\n",
    "    \n",
    "        # If it fails,  make a dict with just the id and None for certification.\n",
    "        except Exception as e:\n",
    "            errors.append([movie_id, e])\n",
    "    \n",
    "    print(f\"- Total errors: {len(errors)}\")"
   ]
  },
  {
   "cell_type": "code",
   "execution_count": 24,
   "id": "9e45cd56-cf9d-4308-bbeb-ef8ca06ce00d",
   "metadata": {},
   "outputs": [],
   "source": [
    "# Save the final results to a csv.gz file\n",
    "final_year_df = pd.read_json(JSON_FILE)\n",
    "\n",
    "csv_fname = f\"{FOLDER}final_tmdb_data_{YEAR}.csv.gz\"\n",
    "final_year_df.to_csv(csv_fname, compression=\"gzip\", index=False)"
   ]
  },
  {
   "cell_type": "code",
   "execution_count": 25,
   "id": "82c21fe0-7912-4fcc-8c0e-7fc2fe0fd696",
   "metadata": {},
   "outputs": [
    {
     "data": {
      "text/plain": [
       "['Data\\\\final_tmdb_data_2002.csv.gz']"
      ]
     },
     "execution_count": 25,
     "metadata": {},
     "output_type": "execute_result"
    }
   ],
   "source": [
    "import glob\n",
    "# Use glob to get all filepaths that match the pattern (*=wildcard)\n",
    "tmdb_files = sorted(glob.glob(\"Data/final_tmdb_data*.csv.gz\"))\n",
    "tmdb_files"
   ]
  },
  {
   "cell_type": "code",
   "execution_count": 27,
   "id": "b439016e-641c-4dc4-b735-1e6c036e1201",
   "metadata": {},
   "outputs": [],
   "source": [
    "# Save the final results to a csv.gz file\n",
    "final_year_df = pd.read_json(JSON_FILE)\n",
    "\n",
    "csv_fname = f\"{FOLDER}final_tmdb_data_{YEAR}.csv.gz\"\n",
    "final_year_df.to_csv(csv_fname, compression=\"gzip\", index=False)"
   ]
  },
  {
   "cell_type": "code",
   "execution_count": null,
   "id": "85a7d9da-a63a-434b-8177-028b09db25b4",
   "metadata": {},
   "outputs": [],
   "source": []
  },
  {
   "cell_type": "code",
   "execution_count": null,
   "id": "32e0f48b-f072-4e82-85ea-77bb81a7c66e",
   "metadata": {},
   "outputs": [],
   "source": []
  },
  {
   "cell_type": "code",
   "execution_count": null,
   "id": "e3fa6549-0351-4bab-ab02-d728c2ea61a7",
   "metadata": {},
   "outputs": [],
   "source": []
  },
  {
   "cell_type": "code",
   "execution_count": null,
   "id": "cf199d49-e37d-40b7-bee3-d412c4cecfa5",
   "metadata": {},
   "outputs": [],
   "source": []
  },
  {
   "cell_type": "code",
   "execution_count": null,
   "id": "e07ddbca-74c5-497c-a38f-b62800d7896b",
   "metadata": {},
   "outputs": [],
   "source": []
  },
  {
   "cell_type": "code",
   "execution_count": null,
   "id": "9b628a62-2e48-4501-97be-664cf4e10189",
   "metadata": {},
   "outputs": [],
   "source": []
  },
  {
   "cell_type": "code",
   "execution_count": null,
   "id": "102c921a-d8ef-4d4e-bfc9-1f3e4b1c0a7e",
   "metadata": {},
   "outputs": [],
   "source": []
  },
  {
   "cell_type": "code",
   "execution_count": null,
   "id": "59b2ec00-ccc3-48d5-834a-14c46fa23da0",
   "metadata": {},
   "outputs": [],
   "source": []
  },
  {
   "cell_type": "code",
   "execution_count": null,
   "id": "56a8d1fb-aeb0-491a-bb61-33e686f9b70f",
   "metadata": {},
   "outputs": [],
   "source": []
  },
  {
   "cell_type": "code",
   "execution_count": null,
   "id": "3fdf675e-a0e2-44e8-934e-c8cd7683dc0b",
   "metadata": {},
   "outputs": [],
   "source": []
  },
  {
   "cell_type": "code",
   "execution_count": null,
   "id": "4277583a-9113-4ca7-b839-28656501e1f9",
   "metadata": {},
   "outputs": [],
   "source": []
  },
  {
   "cell_type": "code",
   "execution_count": null,
   "id": "17713533-a495-411a-8de8-873128c103ff",
   "metadata": {},
   "outputs": [],
   "source": []
  },
  {
   "cell_type": "code",
   "execution_count": null,
   "id": "6fb0ff16-9c33-4e3a-b989-255a68eb912a",
   "metadata": {},
   "outputs": [],
   "source": []
  },
  {
   "cell_type": "code",
   "execution_count": null,
   "id": "eb820925-fa4a-4c1b-9657-82cd5fff5cf4",
   "metadata": {},
   "outputs": [],
   "source": []
  },
  {
   "cell_type": "code",
   "execution_count": null,
   "id": "bbf59d32-0147-4ced-9fbd-5826c6ae5bf5",
   "metadata": {},
   "outputs": [],
   "source": []
  },
  {
   "cell_type": "code",
   "execution_count": null,
   "id": "7dd98fd3-d0e5-4b06-936a-da9b93c9bac3",
   "metadata": {},
   "outputs": [],
   "source": []
  }
 ],
 "metadata": {
  "kernelspec": {
   "display_name": "Python 3 (ipykernel)",
   "language": "python",
   "name": "python3"
  },
  "language_info": {
   "codemirror_mode": {
    "name": "ipython",
    "version": 3
   },
   "file_extension": ".py",
   "mimetype": "text/x-python",
   "name": "python",
   "nbconvert_exporter": "python",
   "pygments_lexer": "ipython3",
   "version": "3.10.10"
  },
  "widgets": {
   "application/vnd.jupyter.widget-state+json": {
    "state": {
     "02c9eebff2b042169204860afd0b943d": {
      "model_module": "@jupyter-widgets/controls",
      "model_module_version": "2.0.0",
      "model_name": "HTMLModel",
      "state": {
       "layout": "IPY_MODEL_e5c837e6691b4aeb9bcd41a03b69ed3d",
       "style": "IPY_MODEL_30ceafda908347a3be0a0c8ad027965a",
       "value": "Movies from 2002: 100%"
      }
     },
     "05de0111fa0947f08a4f45f69d31e9dc": {
      "model_module": "@jupyter-widgets/controls",
      "model_module_version": "2.0.0",
      "model_name": "HTMLModel",
      "state": {
       "layout": "IPY_MODEL_1d283e5db69641a28c9e081ad802a404",
       "style": "IPY_MODEL_868837dcda974c19b73ccf54d7bd69f3",
       "value": "Movies from 2001: 100%"
      }
     },
     "07ce875f91d14ce18f28793502713c95": {
      "model_module": "@jupyter-widgets/controls",
      "model_module_version": "2.0.0",
      "model_name": "FloatProgressModel",
      "state": {
       "bar_style": "success",
       "layout": "IPY_MODEL_119864357fbc4e65ac38f9329507abf7",
       "max": 2003,
       "style": "IPY_MODEL_408f3a419cd041b58bf9cd9f2f39b9d0",
       "value": 2003
      }
     },
     "0946cd85ed9246eaa4e60dac4b4bdc73": {
      "model_module": "@jupyter-widgets/controls",
      "model_module_version": "2.0.0",
      "model_name": "HTMLStyleModel",
      "state": {
       "description_width": "",
       "font_size": null,
       "text_color": null
      }
     },
     "119864357fbc4e65ac38f9329507abf7": {
      "model_module": "@jupyter-widgets/base",
      "model_module_version": "2.0.0",
      "model_name": "LayoutModel",
      "state": {}
     },
     "14d76a9a0d0948e1badd6477786765be": {
      "model_module": "@jupyter-widgets/controls",
      "model_module_version": "2.0.0",
      "model_name": "HBoxModel",
      "state": {
       "children": [
        "IPY_MODEL_05de0111fa0947f08a4f45f69d31e9dc",
        "IPY_MODEL_07ce875f91d14ce18f28793502713c95",
        "IPY_MODEL_f4c347dd97734b959326897cf8c7060e"
       ],
       "layout": "IPY_MODEL_8f36999f4b1a4a69a442578209071cb3"
      }
     },
     "17174940d6ab4593b2b3d71f7897030b": {
      "model_module": "@jupyter-widgets/controls",
      "model_module_version": "2.0.0",
      "model_name": "FloatProgressModel",
      "state": {
       "bar_style": "danger",
       "layout": "IPY_MODEL_dd369ef8aca14f4992b0ab73c342ff0b",
       "max": 2,
       "style": "IPY_MODEL_3206919fec894191ae36c2c23bc750aa"
      }
     },
     "1d283e5db69641a28c9e081ad802a404": {
      "model_module": "@jupyter-widgets/base",
      "model_module_version": "2.0.0",
      "model_name": "LayoutModel",
      "state": {}
     },
     "2219fea4ee514394a035fd999de14374": {
      "model_module": "@jupyter-widgets/controls",
      "model_module_version": "2.0.0",
      "model_name": "HBoxModel",
      "state": {
       "children": [
        "IPY_MODEL_8a0baa24ce7a4da3b45604cd013f9402",
        "IPY_MODEL_17174940d6ab4593b2b3d71f7897030b",
        "IPY_MODEL_2bf0c2ed18b740eda6ad8467c2d1636a"
       ],
       "layout": "IPY_MODEL_c33e06c3a5494429a0ecf9f93144c63e"
      }
     },
     "2bf0c2ed18b740eda6ad8467c2d1636a": {
      "model_module": "@jupyter-widgets/controls",
      "model_module_version": "2.0.0",
      "model_name": "HTMLModel",
      "state": {
       "layout": "IPY_MODEL_cf1a8032c5b44581a2ddb0e8260a6140",
       "style": "IPY_MODEL_d3ceedc0f697451a9bc4c9b913c30177",
       "value": " 0/2 [00:00&lt;?, ?it/s]"
      }
     },
     "2ec09e61b3c8473aa042e8680d959f56": {
      "model_module": "@jupyter-widgets/controls",
      "model_module_version": "2.0.0",
      "model_name": "HTMLStyleModel",
      "state": {
       "description_width": "",
       "font_size": null,
       "text_color": null
      }
     },
     "30ceafda908347a3be0a0c8ad027965a": {
      "model_module": "@jupyter-widgets/controls",
      "model_module_version": "2.0.0",
      "model_name": "HTMLStyleModel",
      "state": {
       "description_width": "",
       "font_size": null,
       "text_color": null
      }
     },
     "3206919fec894191ae36c2c23bc750aa": {
      "model_module": "@jupyter-widgets/controls",
      "model_module_version": "2.0.0",
      "model_name": "ProgressStyleModel",
      "state": {
       "description_width": ""
      }
     },
     "3639433c53864ff8bc7e90a1061e481f": {
      "model_module": "@jupyter-widgets/controls",
      "model_module_version": "2.0.0",
      "model_name": "HTMLStyleModel",
      "state": {
       "description_width": "",
       "font_size": null,
       "text_color": null
      }
     },
     "374c44ef18d249a78713b0689ee1b28e": {
      "model_module": "@jupyter-widgets/controls",
      "model_module_version": "2.0.0",
      "model_name": "HTMLModel",
      "state": {
       "layout": "IPY_MODEL_d1eab892ab5a464aaba0c4d29bec8cfe",
       "style": "IPY_MODEL_571718ca90a54ee2be60549e59e4ddc4",
       "value": "YEARS: 100%"
      }
     },
     "3f41e722a8b64db18e9575f3f005e775": {
      "model_module": "@jupyter-widgets/base",
      "model_module_version": "2.0.0",
      "model_name": "LayoutModel",
      "state": {}
     },
     "408f3a419cd041b58bf9cd9f2f39b9d0": {
      "model_module": "@jupyter-widgets/controls",
      "model_module_version": "2.0.0",
      "model_name": "ProgressStyleModel",
      "state": {
       "description_width": ""
      }
     },
     "46b3c8de86b94cc0af795930f4fa3e19": {
      "model_module": "@jupyter-widgets/controls",
      "model_module_version": "2.0.0",
      "model_name": "HTMLStyleModel",
      "state": {
       "description_width": "",
       "font_size": null,
       "text_color": null
      }
     },
     "46f8a50693bd456881974602c67e0526": {
      "model_module": "@jupyter-widgets/controls",
      "model_module_version": "2.0.0",
      "model_name": "FloatProgressModel",
      "state": {
       "bar_style": "success",
       "layout": "IPY_MODEL_9dc6e3c49bff4d17a08d36c7ccea500b",
       "max": 2,
       "style": "IPY_MODEL_697b05ff013a49afb60146521fc0c0dd",
       "value": 2
      }
     },
     "4edce784e0d24daf9e03737c1a3df4e3": {
      "model_module": "@jupyter-widgets/controls",
      "model_module_version": "2.0.0",
      "model_name": "ProgressStyleModel",
      "state": {
       "description_width": ""
      }
     },
     "500b0edd9ba34d608ca0f1f862e63015": {
      "model_module": "@jupyter-widgets/controls",
      "model_module_version": "2.0.0",
      "model_name": "HBoxModel",
      "state": {
       "children": [
        "IPY_MODEL_9663110986ae4d5ba41cbf843674291c",
        "IPY_MODEL_b3b4418d1b1145f6b1e0f0812bf60481",
        "IPY_MODEL_9d3a131b2e604b0a8b3144f11f1bea9d"
       ],
       "layout": "IPY_MODEL_50de64f3d67743cb867f595a3e1bb545"
      }
     },
     "50de64f3d67743cb867f595a3e1bb545": {
      "model_module": "@jupyter-widgets/base",
      "model_module_version": "2.0.0",
      "model_name": "LayoutModel",
      "state": {}
     },
     "51518fa92c57466088ddf33c01629558": {
      "model_module": "@jupyter-widgets/controls",
      "model_module_version": "2.0.0",
      "model_name": "HTMLStyleModel",
      "state": {
       "description_width": "",
       "font_size": null,
       "text_color": null
      }
     },
     "571718ca90a54ee2be60549e59e4ddc4": {
      "model_module": "@jupyter-widgets/controls",
      "model_module_version": "2.0.0",
      "model_name": "HTMLStyleModel",
      "state": {
       "description_width": "",
       "font_size": null,
       "text_color": null
      }
     },
     "5bab78d6e2644f5b9db4c4d281be3c42": {
      "model_module": "@jupyter-widgets/base",
      "model_module_version": "2.0.0",
      "model_name": "LayoutModel",
      "state": {}
     },
     "6071e276ca434023850f1aba6237f2fe": {
      "model_module": "@jupyter-widgets/controls",
      "model_module_version": "2.0.0",
      "model_name": "HTMLModel",
      "state": {
       "layout": "IPY_MODEL_ee35eef2ecc345e6bd1134c34c43f768",
       "style": "IPY_MODEL_46b3c8de86b94cc0af795930f4fa3e19",
       "value": "YEARS:   0%"
      }
     },
     "6107c0ca1eba4a64ab443221b1fe7574": {
      "model_module": "@jupyter-widgets/controls",
      "model_module_version": "2.0.0",
      "model_name": "HTMLStyleModel",
      "state": {
       "description_width": "",
       "font_size": null,
       "text_color": null
      }
     },
     "697b05ff013a49afb60146521fc0c0dd": {
      "model_module": "@jupyter-widgets/controls",
      "model_module_version": "2.0.0",
      "model_name": "ProgressStyleModel",
      "state": {
       "description_width": ""
      }
     },
     "709f5fb277f948a0a78fc904f5731e89": {
      "model_module": "@jupyter-widgets/base",
      "model_module_version": "2.0.0",
      "model_name": "LayoutModel",
      "state": {}
     },
     "744e0a768c4f4129a89ef52f43a1c350": {
      "model_module": "@jupyter-widgets/controls",
      "model_module_version": "2.0.0",
      "model_name": "HBoxModel",
      "state": {
       "children": [
        "IPY_MODEL_02c9eebff2b042169204860afd0b943d",
        "IPY_MODEL_f16f32bb45614edeaf1df82296440ce4",
        "IPY_MODEL_a30d270678564b5abdac9becb95f684c"
       ],
       "layout": "IPY_MODEL_75867735a1c84145a0934acae2c82256"
      }
     },
     "75867735a1c84145a0934acae2c82256": {
      "model_module": "@jupyter-widgets/base",
      "model_module_version": "2.0.0",
      "model_name": "LayoutModel",
      "state": {}
     },
     "793ddf24e1bf4ec992376c60b58fdcef": {
      "model_module": "@jupyter-widgets/base",
      "model_module_version": "2.0.0",
      "model_name": "LayoutModel",
      "state": {}
     },
     "79982d1160e24625a20130d0b0e1e9eb": {
      "model_module": "@jupyter-widgets/base",
      "model_module_version": "2.0.0",
      "model_name": "LayoutModel",
      "state": {}
     },
     "7d6d3f4750d94b0bbfa6b5b34e2a86df": {
      "model_module": "@jupyter-widgets/base",
      "model_module_version": "2.0.0",
      "model_name": "LayoutModel",
      "state": {}
     },
     "868837dcda974c19b73ccf54d7bd69f3": {
      "model_module": "@jupyter-widgets/controls",
      "model_module_version": "2.0.0",
      "model_name": "HTMLStyleModel",
      "state": {
       "description_width": "",
       "font_size": null,
       "text_color": null
      }
     },
     "8a0baa24ce7a4da3b45604cd013f9402": {
      "model_module": "@jupyter-widgets/controls",
      "model_module_version": "2.0.0",
      "model_name": "HTMLModel",
      "state": {
       "layout": "IPY_MODEL_8e6d3962c51e449aba0664638dc35a9a",
       "style": "IPY_MODEL_6107c0ca1eba4a64ab443221b1fe7574",
       "value": "YEARS:   0%"
      }
     },
     "8c30af7c23fd4bde97ceda74300a7f9d": {
      "model_module": "@jupyter-widgets/controls",
      "model_module_version": "2.0.0",
      "model_name": "HBoxModel",
      "state": {
       "children": [
        "IPY_MODEL_374c44ef18d249a78713b0689ee1b28e",
        "IPY_MODEL_46f8a50693bd456881974602c67e0526",
        "IPY_MODEL_d9ebb85d17664d63aa1fea4832e58908"
       ],
       "layout": "IPY_MODEL_f873ba098a164c2e966ff4cfade3f1d2"
      }
     },
     "8e6d3962c51e449aba0664638dc35a9a": {
      "model_module": "@jupyter-widgets/base",
      "model_module_version": "2.0.0",
      "model_name": "LayoutModel",
      "state": {}
     },
     "8f36999f4b1a4a69a442578209071cb3": {
      "model_module": "@jupyter-widgets/base",
      "model_module_version": "2.0.0",
      "model_name": "LayoutModel",
      "state": {}
     },
     "950b57cac1c94959a8163d9db01424df": {
      "model_module": "@jupyter-widgets/controls",
      "model_module_version": "2.0.0",
      "model_name": "ProgressStyleModel",
      "state": {
       "description_width": ""
      }
     },
     "9663110986ae4d5ba41cbf843674291c": {
      "model_module": "@jupyter-widgets/controls",
      "model_module_version": "2.0.0",
      "model_name": "HTMLModel",
      "state": {
       "layout": "IPY_MODEL_5bab78d6e2644f5b9db4c4d281be3c42",
       "style": "IPY_MODEL_a19891ff3a1f4563abb90d7807dd32da",
       "value": "YEARS: 100%"
      }
     },
     "967bacf588994698af8a818b2e1a43cf": {
      "model_module": "@jupyter-widgets/base",
      "model_module_version": "2.0.0",
      "model_name": "LayoutModel",
      "state": {}
     },
     "9d3a131b2e604b0a8b3144f11f1bea9d": {
      "model_module": "@jupyter-widgets/controls",
      "model_module_version": "2.0.0",
      "model_name": "HTMLModel",
      "state": {
       "layout": "IPY_MODEL_9d97e93a76854aa1b31561a25973f4b4",
       "style": "IPY_MODEL_3639433c53864ff8bc7e90a1061e481f",
       "value": " 2/2 [00:00&lt;00:00, 33.88it/s]"
      }
     },
     "9d97e93a76854aa1b31561a25973f4b4": {
      "model_module": "@jupyter-widgets/base",
      "model_module_version": "2.0.0",
      "model_name": "LayoutModel",
      "state": {}
     },
     "9dc6e3c49bff4d17a08d36c7ccea500b": {
      "model_module": "@jupyter-widgets/base",
      "model_module_version": "2.0.0",
      "model_name": "LayoutModel",
      "state": {}
     },
     "a19891ff3a1f4563abb90d7807dd32da": {
      "model_module": "@jupyter-widgets/controls",
      "model_module_version": "2.0.0",
      "model_name": "HTMLStyleModel",
      "state": {
       "description_width": "",
       "font_size": null,
       "text_color": null
      }
     },
     "a30d270678564b5abdac9becb95f684c": {
      "model_module": "@jupyter-widgets/controls",
      "model_module_version": "2.0.0",
      "model_name": "HTMLModel",
      "state": {
       "layout": "IPY_MODEL_79982d1160e24625a20130d0b0e1e9eb",
       "style": "IPY_MODEL_51518fa92c57466088ddf33c01629558",
       "value": " 1982/1982 [12:20&lt;00:00,  7.06it/s]"
      }
     },
     "a544b13b3ec3468aab35aa348f9e4b35": {
      "model_module": "@jupyter-widgets/controls",
      "model_module_version": "2.0.0",
      "model_name": "HTMLModel",
      "state": {
       "layout": "IPY_MODEL_967bacf588994698af8a818b2e1a43cf",
       "style": "IPY_MODEL_2ec09e61b3c8473aa042e8680d959f56",
       "value": " 0/2 [00:00&lt;?, ?it/s]"
      }
     },
     "a8ca8a8dda1545598d17b1e77d5d9081": {
      "model_module": "@jupyter-widgets/controls",
      "model_module_version": "2.0.0",
      "model_name": "FloatProgressModel",
      "state": {
       "bar_style": "danger",
       "layout": "IPY_MODEL_793ddf24e1bf4ec992376c60b58fdcef",
       "max": 2,
       "style": "IPY_MODEL_950b57cac1c94959a8163d9db01424df"
      }
     },
     "b3b4418d1b1145f6b1e0f0812bf60481": {
      "model_module": "@jupyter-widgets/controls",
      "model_module_version": "2.0.0",
      "model_name": "FloatProgressModel",
      "state": {
       "bar_style": "success",
       "layout": "IPY_MODEL_709f5fb277f948a0a78fc904f5731e89",
       "max": 2,
       "style": "IPY_MODEL_4edce784e0d24daf9e03737c1a3df4e3",
       "value": 2
      }
     },
     "b9359c969ea14552bea6a2173d837e3e": {
      "model_module": "@jupyter-widgets/controls",
      "model_module_version": "2.0.0",
      "model_name": "ProgressStyleModel",
      "state": {
       "description_width": ""
      }
     },
     "c33e06c3a5494429a0ecf9f93144c63e": {
      "model_module": "@jupyter-widgets/base",
      "model_module_version": "2.0.0",
      "model_name": "LayoutModel",
      "state": {}
     },
     "cf1a8032c5b44581a2ddb0e8260a6140": {
      "model_module": "@jupyter-widgets/base",
      "model_module_version": "2.0.0",
      "model_name": "LayoutModel",
      "state": {}
     },
     "d1eab892ab5a464aaba0c4d29bec8cfe": {
      "model_module": "@jupyter-widgets/base",
      "model_module_version": "2.0.0",
      "model_name": "LayoutModel",
      "state": {}
     },
     "d337ccb2cf854d3186411305853df200": {
      "model_module": "@jupyter-widgets/base",
      "model_module_version": "2.0.0",
      "model_name": "LayoutModel",
      "state": {}
     },
     "d3ceedc0f697451a9bc4c9b913c30177": {
      "model_module": "@jupyter-widgets/controls",
      "model_module_version": "2.0.0",
      "model_name": "HTMLStyleModel",
      "state": {
       "description_width": "",
       "font_size": null,
       "text_color": null
      }
     },
     "d9ebb85d17664d63aa1fea4832e58908": {
      "model_module": "@jupyter-widgets/controls",
      "model_module_version": "2.0.0",
      "model_name": "HTMLModel",
      "state": {
       "layout": "IPY_MODEL_7d6d3f4750d94b0bbfa6b5b34e2a86df",
       "style": "IPY_MODEL_0946cd85ed9246eaa4e60dac4b4bdc73",
       "value": " 2/2 [26:51&lt;00:00, 794.51s/it]"
      }
     },
     "dbd64af9f4754c05ab44ce46f26f54b1": {
      "model_module": "@jupyter-widgets/base",
      "model_module_version": "2.0.0",
      "model_name": "LayoutModel",
      "state": {}
     },
     "dd369ef8aca14f4992b0ab73c342ff0b": {
      "model_module": "@jupyter-widgets/base",
      "model_module_version": "2.0.0",
      "model_name": "LayoutModel",
      "state": {}
     },
     "e5c837e6691b4aeb9bcd41a03b69ed3d": {
      "model_module": "@jupyter-widgets/base",
      "model_module_version": "2.0.0",
      "model_name": "LayoutModel",
      "state": {}
     },
     "ec68551ebaf7417a90231d6acac6f76e": {
      "model_module": "@jupyter-widgets/controls",
      "model_module_version": "2.0.0",
      "model_name": "HBoxModel",
      "state": {
       "children": [
        "IPY_MODEL_6071e276ca434023850f1aba6237f2fe",
        "IPY_MODEL_a8ca8a8dda1545598d17b1e77d5d9081",
        "IPY_MODEL_a544b13b3ec3468aab35aa348f9e4b35"
       ],
       "layout": "IPY_MODEL_dbd64af9f4754c05ab44ce46f26f54b1"
      }
     },
     "ee35eef2ecc345e6bd1134c34c43f768": {
      "model_module": "@jupyter-widgets/base",
      "model_module_version": "2.0.0",
      "model_name": "LayoutModel",
      "state": {}
     },
     "ef133ae4edb945fb8479e7eb63ca421e": {
      "model_module": "@jupyter-widgets/controls",
      "model_module_version": "2.0.0",
      "model_name": "HTMLStyleModel",
      "state": {
       "description_width": "",
       "font_size": null,
       "text_color": null
      }
     },
     "f16f32bb45614edeaf1df82296440ce4": {
      "model_module": "@jupyter-widgets/controls",
      "model_module_version": "2.0.0",
      "model_name": "FloatProgressModel",
      "state": {
       "bar_style": "success",
       "layout": "IPY_MODEL_d337ccb2cf854d3186411305853df200",
       "max": 1982,
       "style": "IPY_MODEL_b9359c969ea14552bea6a2173d837e3e",
       "value": 1982
      }
     },
     "f4c347dd97734b959326897cf8c7060e": {
      "model_module": "@jupyter-widgets/controls",
      "model_module_version": "2.0.0",
      "model_name": "HTMLModel",
      "state": {
       "layout": "IPY_MODEL_3f41e722a8b64db18e9575f3f005e775",
       "style": "IPY_MODEL_ef133ae4edb945fb8479e7eb63ca421e",
       "value": " 2003/2003 [14:30&lt;00:00,  3.85it/s]"
      }
     },
     "f873ba098a164c2e966ff4cfade3f1d2": {
      "model_module": "@jupyter-widgets/base",
      "model_module_version": "2.0.0",
      "model_name": "LayoutModel",
      "state": {}
     }
    },
    "version_major": 2,
    "version_minor": 0
   }
  }
 },
 "nbformat": 4,
 "nbformat_minor": 5
}
