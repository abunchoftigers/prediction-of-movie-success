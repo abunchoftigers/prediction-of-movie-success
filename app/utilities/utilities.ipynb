{
 "cells": [
  {
   "cell_type": "markdown",
   "metadata": {},
   "source": [
    "Add a comment with function name above each declaration"
   ]
  },
  {
   "cell_type": "code",
   "execution_count": null,
   "metadata": {},
   "outputs": [],
   "source": [
    "lines = []\n",
    "with open('./exam_functions.py', 'r') as file:\n",
    "  lines = file.readlines()\n",
    "\n",
    "new_lines = []\n",
    "for line in lines:\n",
    "  if line.startswith('def'):\n",
    "    function_name = line.split(' ')[1].split('(')[0]\n",
    "    new_lines.append(f\"# =============================================================================\\n# {function_name.upper()}\\n# =============================================================================\\n\\n\")\n",
    "  new_lines.append(line)\n",
    "\n",
    "with open('./exam_functions.py', 'w') as file:\n",
    "  file.writelines(new_lines)\n"
   ]
  }
 ],
 "metadata": {
  "language_info": {
   "name": "python"
  }
 },
 "nbformat": 4,
 "nbformat_minor": 2
}
